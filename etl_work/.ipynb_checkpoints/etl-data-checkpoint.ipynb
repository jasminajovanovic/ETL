{
 "cells": [
  {
   "cell_type": "code",
   "execution_count": 1,
   "metadata": {},
   "outputs": [],
   "source": [
    "import pandas as pd\n",
    "from sqlalchemy import create_engine"
   ]
  },
  {
   "cell_type": "code",
   "execution_count": 2,
   "metadata": {},
   "outputs": [],
   "source": [
    "import pymysql\n",
    "pymysql.install_as_MySQLdb()"
   ]
  },
  {
   "cell_type": "markdown",
   "metadata": {},
   "source": [
    "### Store 1st CSV into DataFrame"
   ]
  },
  {
   "cell_type": "code",
   "execution_count": 3,
   "metadata": {},
   "outputs": [
    {
     "data": {
      "text/plain": [
       "Index(['Contract ID #', 'Name', 'Developer/Owner', 'Unit Type',\n",
       "       'Development Program', 'Address', 'Zip Code', 'Council District',\n",
       "       'Contact Phone Number', 'Contact E-mail', 'Own/Rent', 'Total Units',\n",
       "       'Total Affordable Units', 'Status', 'Affordability Period Start Date',\n",
       "       'Affordability Period Start Year', 'Affordabilty Period',\n",
       "       'Affordability Period Expiration Date', 'Units at 30% MFI',\n",
       "       'Units at 40% MFI', 'Units at 50% MFI', 'Units at 60% MFI',\n",
       "       'Units at 65% MFI ', 'Units at 80% MFI', 'Market Rate Units',\n",
       "       'City Funding Amount', 'Approx. % of Funds Leveraged', 'Location 1'],\n",
       "      dtype='object')"
      ]
     },
     "execution_count": 3,
     "metadata": {},
     "output_type": "execute_result"
    }
   ],
   "source": [
    "house_csv_file = \"../Resources/Affordable_Housing_Inventory.csv\"\n",
    "house_data_df = pd.read_csv(house_csv_file)\n",
    "house_data_df.columns\n",
    "# portland_data_df[\"Offense Type\"].value_counts()"
   ]
  },
  {
   "cell_type": "markdown",
   "metadata": {},
   "source": [
    "### Create new data with select columns"
   ]
  },
  {
   "cell_type": "code",
   "execution_count": 13,
   "metadata": {},
   "outputs": [
    {
     "data": {
      "text/html": [
       "<div>\n",
       "<style scoped>\n",
       "    .dataframe tbody tr th:only-of-type {\n",
       "        vertical-align: middle;\n",
       "    }\n",
       "\n",
       "    .dataframe tbody tr th {\n",
       "        vertical-align: top;\n",
       "    }\n",
       "\n",
       "    .dataframe thead th {\n",
       "        text-align: right;\n",
       "    }\n",
       "</style>\n",
       "<table border=\"1\" class=\"dataframe\">\n",
       "  <thead>\n",
       "    <tr style=\"text-align: right;\">\n",
       "      <th></th>\n",
       "      <th>Name</th>\n",
       "      <th>Zip Code</th>\n",
       "      <th>Total Affordable Units</th>\n",
       "    </tr>\n",
       "  </thead>\n",
       "  <tbody>\n",
       "    <tr>\n",
       "      <th>0</th>\n",
       "      <td>Annointed Acres</td>\n",
       "      <td>78702.0</td>\n",
       "      <td>72.0</td>\n",
       "    </tr>\n",
       "    <tr>\n",
       "      <th>1</th>\n",
       "      <td>M Station</td>\n",
       "      <td>78722.0</td>\n",
       "      <td>140.0</td>\n",
       "    </tr>\n",
       "    <tr>\n",
       "      <th>2</th>\n",
       "      <td>Garden Terrace Apartments</td>\n",
       "      <td>78745.0</td>\n",
       "      <td>15.0</td>\n",
       "    </tr>\n",
       "    <tr>\n",
       "      <th>3</th>\n",
       "      <td>Lifeworks</td>\n",
       "      <td>78704.0</td>\n",
       "      <td>12.0</td>\n",
       "    </tr>\n",
       "    <tr>\n",
       "      <th>4</th>\n",
       "      <td>Mueller I-C Phase I</td>\n",
       "      <td>78723.0</td>\n",
       "      <td>3.0</td>\n",
       "    </tr>\n",
       "  </tbody>\n",
       "</table>\n",
       "</div>"
      ],
      "text/plain": [
       "                        Name  Zip Code  Total Affordable Units\n",
       "0            Annointed Acres   78702.0                    72.0\n",
       "1                  M Station   78722.0                   140.0\n",
       "2  Garden Terrace Apartments   78745.0                    15.0\n",
       "3                  Lifeworks   78704.0                    12.0\n",
       "4        Mueller I-C Phase I   78723.0                     3.0"
      ]
     },
     "execution_count": 13,
     "metadata": {},
     "output_type": "execute_result"
    }
   ],
   "source": [
    "new_house_data_df = house_data_df[['Name', 'Zip Code','Total Affordable Units']].copy()\n",
    "new_house_data_df.head()\n",
    "# new_portland_data_df.head()"
   ]
  },
  {
   "cell_type": "code",
   "execution_count": 5,
   "metadata": {},
   "outputs": [
    {
     "data": {
      "text/plain": [
       "78702.0    67\n",
       "78723.0    65\n",
       "78741.0    58\n",
       "78724.0    51\n",
       "78705.0    47\n",
       "78744.0    40\n",
       "78704.0    25\n",
       "78722.0    18\n",
       "78745.0    17\n",
       "78721.0    16\n",
       "78756.0     6\n",
       "78757.0     6\n",
       "78758.0     6\n",
       "78752.0     4\n",
       "78617.0     4\n",
       "78748.0     4\n",
       "78754.0     4\n",
       "78717.0     3\n",
       "78751.0     3\n",
       "78753.0     3\n",
       "78735.0     2\n",
       "78727.0     2\n",
       "78726.0     2\n",
       "78641.0     1\n",
       "78730.0     1\n",
       "78728.0     1\n",
       "78750.0     1\n",
       "78703.0     1\n",
       "78747.0     1\n",
       "Name: Zip Code, dtype: int64"
      ]
     },
     "execution_count": 5,
     "metadata": {},
     "output_type": "execute_result"
    }
   ],
   "source": [
    "new_house_data_df['Zip Code'].value_counts()"
   ]
  },
  {
   "cell_type": "code",
   "execution_count": 15,
   "metadata": {},
   "outputs": [
    {
     "data": {
      "text/html": [
       "<div>\n",
       "<style scoped>\n",
       "    .dataframe tbody tr th:only-of-type {\n",
       "        vertical-align: middle;\n",
       "    }\n",
       "\n",
       "    .dataframe tbody tr th {\n",
       "        vertical-align: top;\n",
       "    }\n",
       "\n",
       "    .dataframe thead th {\n",
       "        text-align: right;\n",
       "    }\n",
       "</style>\n",
       "<table border=\"1\" class=\"dataframe\">\n",
       "  <thead>\n",
       "    <tr style=\"text-align: right;\">\n",
       "      <th></th>\n",
       "      <th>Contractor_Name</th>\n",
       "      <th>Zip</th>\n",
       "      <th>Total_Affordable_Units</th>\n",
       "    </tr>\n",
       "  </thead>\n",
       "  <tbody>\n",
       "    <tr>\n",
       "      <th>0</th>\n",
       "      <td>Annointed Acres</td>\n",
       "      <td>78702.0</td>\n",
       "      <td>72.0</td>\n",
       "    </tr>\n",
       "    <tr>\n",
       "      <th>1</th>\n",
       "      <td>M Station</td>\n",
       "      <td>78722.0</td>\n",
       "      <td>140.0</td>\n",
       "    </tr>\n",
       "    <tr>\n",
       "      <th>2</th>\n",
       "      <td>Garden Terrace Apartments</td>\n",
       "      <td>78745.0</td>\n",
       "      <td>15.0</td>\n",
       "    </tr>\n",
       "    <tr>\n",
       "      <th>3</th>\n",
       "      <td>Lifeworks</td>\n",
       "      <td>78704.0</td>\n",
       "      <td>12.0</td>\n",
       "    </tr>\n",
       "    <tr>\n",
       "      <th>4</th>\n",
       "      <td>Mueller I-C Phase I</td>\n",
       "      <td>78723.0</td>\n",
       "      <td>3.0</td>\n",
       "    </tr>\n",
       "  </tbody>\n",
       "</table>\n",
       "</div>"
      ],
      "text/plain": [
       "             Contractor_Name      Zip  Total_Affordable_Units\n",
       "0            Annointed Acres  78702.0                    72.0\n",
       "1                  M Station  78722.0                   140.0\n",
       "2  Garden Terrace Apartments  78745.0                    15.0\n",
       "3                  Lifeworks  78704.0                    12.0\n",
       "4        Mueller I-C Phase I  78723.0                     3.0"
      ]
     },
     "execution_count": 15,
     "metadata": {},
     "output_type": "execute_result"
    }
   ],
   "source": [
    "new_house_data_df = new_house_data_df.rename(columns={'Zip Code': 'Zip', 'Name': 'Contractor_Name', 'Total Affordable Units': 'Total_Affordable_Units'})\n",
    "new_house_data_df.head()"
   ]
  },
  {
   "cell_type": "markdown",
   "metadata": {},
   "source": [
    "### Store 2nd CSV into DataFrame"
   ]
  },
  {
   "cell_type": "code",
   "execution_count": 6,
   "metadata": {},
   "outputs": [
    {
     "data": {
      "text/plain": [
       "THEFT                             10442\n",
       "BURGLARY OF VEHICLE                8505\n",
       "THEFT BY SHOPLIFTING               3424\n",
       "BURGLARY OF RESIDENCE              3196\n",
       "AUTO THEFT                         2025\n",
       "BURGLARY NON RESIDENCE             1649\n",
       "THEFT OF BICYCLE                   1392\n",
       "AGG ASSAULT                         902\n",
       "THEFT FROM AUTO                     656\n",
       "AGG ASLT STRANGLE/SUFFOCATE         609\n",
       "AGG ROBBERY/DEADLY WEAPON           582\n",
       "THEFT OF LICENSE PLATE              475\n",
       "THEFT FROM PERSON                   451\n",
       "ROBBERY BY ASSAULT                  358\n",
       "AGG ASSAULT FAM/DATE VIOLENCE       335\n",
       "BURG NON RESIDENCE SHEDS            316\n",
       "RAPE                                288\n",
       "THEFT OF AUTO PARTS                 286\n",
       "THEFT FROM BUILDING                 249\n",
       "THEFT OF TRAILER                    163\n",
       "DEADLY CONDUCT                      146\n",
       "SEXUAL ASSAULT W/ OBJECT            119\n",
       "SEXUAL ASSAULT OF CHILD/OBJECT      115\n",
       "BREACH OF COMPUTER SECURITY          98\n",
       "RAPE OF A CHILD                      94\n",
       "ROBBERY BY THREAT                    90\n",
       "AGG ASSAULT WITH MOTOR VEH           71\n",
       "AGG ASLT ENHANC STRANGL/SUFFOC       54\n",
       "FORCED SODOMY                        43\n",
       "THEFT OF METAL                       41\n",
       "AGG RAPE OF A CHILD                  37\n",
       "AGG SEXUAL ASSAULT CHILD/OBJEC       37\n",
       "MURDER                               30\n",
       "BURGLARY OF COIN-OP MACHINE          29\n",
       "AGG ASLT W/MOTOR VEH FAM/DAT V       26\n",
       "AGG ASSAULT ON PUBLIC SERVANT        22\n",
       "AGG ROBBERY BY ASSAULT               20\n",
       "AGG RAPE                             13\n",
       "THEFT OF HEAVY EQUIPMENT             11\n",
       "BURG OF RES - SEXUAL NATURE          10\n",
       "MISAPPLY FIDUCIARY PROP               9\n",
       "AGG SEXUAL ASSAULT W OBJECT           8\n",
       "TAKE WEAPON FRM POLICE OFFICER        8\n",
       "PURSE SNATCHING                       4\n",
       "CAPITAL MURDER                        4\n",
       "MANSLAUGHTER                          4\n",
       "DEADLY CONDUCT FAM/DATE VIOL          3\n",
       "POCKET PICKING                        3\n",
       "FORCED SODOMY OF CHILD                2\n",
       "AGG FORCED SODOMY                     2\n",
       "THEFT/TILL TAPPING                    2\n",
       "AGG FORCED SODOMY OF CHILD            1\n",
       "THEFT CATALYTIC CONVERTER             1\n",
       "SERIOUS INJURY TO A CHILD             1\n",
       "Name: GO Highest Offense Desc, dtype: int64"
      ]
     },
     "execution_count": 6,
     "metadata": {},
     "output_type": "execute_result"
    }
   ],
   "source": [
    "austind_csv_file = \"../Resources/austin.csv\"\n",
    "austin_data_df = pd.read_csv(austind_csv_file)\n",
    "austin_data_df[\"GO Highest Offense Desc\"].value_counts()"
   ]
  },
  {
   "cell_type": "code",
   "execution_count": 7,
   "metadata": {},
   "outputs": [
    {
     "data": {
      "text/html": [
       "<div>\n",
       "<style scoped>\n",
       "    .dataframe tbody tr th:only-of-type {\n",
       "        vertical-align: middle;\n",
       "    }\n",
       "\n",
       "    .dataframe tbody tr th {\n",
       "        vertical-align: top;\n",
       "    }\n",
       "\n",
       "    .dataframe thead th {\n",
       "        text-align: right;\n",
       "    }\n",
       "</style>\n",
       "<table border=\"1\" class=\"dataframe\">\n",
       "  <thead>\n",
       "    <tr style=\"text-align: right;\">\n",
       "      <th></th>\n",
       "      <th>GO Primary Key</th>\n",
       "      <th>Council District</th>\n",
       "      <th>GO Highest Offense Desc</th>\n",
       "      <th>Highest NIBRS/UCR Offense Description</th>\n",
       "      <th>GO Report Date</th>\n",
       "      <th>GO Location</th>\n",
       "      <th>Clearance Status</th>\n",
       "      <th>Clearance Date</th>\n",
       "      <th>GO District</th>\n",
       "      <th>GO Location Zip</th>\n",
       "      <th>GO Census Tract</th>\n",
       "      <th>GO X Coordinate</th>\n",
       "      <th>GO Y Coordinate</th>\n",
       "    </tr>\n",
       "  </thead>\n",
       "  <tbody>\n",
       "    <tr>\n",
       "      <th>0</th>\n",
       "      <td>201610188.0</td>\n",
       "      <td>8.0</td>\n",
       "      <td>AGG ASLT ENHANC STRANGL/SUFFOC</td>\n",
       "      <td>Agg Assault</td>\n",
       "      <td>1-Jan-16</td>\n",
       "      <td>8600 W SH 71                                  ...</td>\n",
       "      <td>C</td>\n",
       "      <td>12-Jan-16</td>\n",
       "      <td>D</td>\n",
       "      <td>78735.0</td>\n",
       "      <td>19.08</td>\n",
       "      <td>3067322.0</td>\n",
       "      <td>10062796.0</td>\n",
       "    </tr>\n",
       "    <tr>\n",
       "      <th>1</th>\n",
       "      <td>201610643.0</td>\n",
       "      <td>9.0</td>\n",
       "      <td>THEFT</td>\n",
       "      <td>Theft</td>\n",
       "      <td>1-Jan-16</td>\n",
       "      <td>219 E 6TH ST                                  ...</td>\n",
       "      <td>C</td>\n",
       "      <td>4-Jan-16</td>\n",
       "      <td>G</td>\n",
       "      <td>78701.0</td>\n",
       "      <td>11.00</td>\n",
       "      <td>3114957.0</td>\n",
       "      <td>10070462.0</td>\n",
       "    </tr>\n",
       "    <tr>\n",
       "      <th>2</th>\n",
       "      <td>201610892.0</td>\n",
       "      <td>4.0</td>\n",
       "      <td>AGG ROBBERY/DEADLY WEAPON</td>\n",
       "      <td>Robbery</td>\n",
       "      <td>1-Jan-16</td>\n",
       "      <td>701 W LONGSPUR BLVD                           ...</td>\n",
       "      <td>N</td>\n",
       "      <td>3-May-16</td>\n",
       "      <td>E</td>\n",
       "      <td>78753.0</td>\n",
       "      <td>18.23</td>\n",
       "      <td>3129181.0</td>\n",
       "      <td>10106923.0</td>\n",
       "    </tr>\n",
       "    <tr>\n",
       "      <th>3</th>\n",
       "      <td>201610893.0</td>\n",
       "      <td>9.0</td>\n",
       "      <td>THEFT</td>\n",
       "      <td>Theft</td>\n",
       "      <td>1-Jan-16</td>\n",
       "      <td>404 COLORADO ST                               ...</td>\n",
       "      <td>N</td>\n",
       "      <td>22-Jan-16</td>\n",
       "      <td>G</td>\n",
       "      <td>78701.0</td>\n",
       "      <td>11.00</td>\n",
       "      <td>3113643.0</td>\n",
       "      <td>10070357.0</td>\n",
       "    </tr>\n",
       "    <tr>\n",
       "      <th>4</th>\n",
       "      <td>201611018.0</td>\n",
       "      <td>4.0</td>\n",
       "      <td>SEXUAL ASSAULT W/ OBJECT</td>\n",
       "      <td>Rape</td>\n",
       "      <td>1-Jan-16</td>\n",
       "      <td>NaN</td>\n",
       "      <td>C</td>\n",
       "      <td>10-Mar-16</td>\n",
       "      <td>E</td>\n",
       "      <td>78753.0</td>\n",
       "      <td>18.33</td>\n",
       "      <td>NaN</td>\n",
       "      <td>NaN</td>\n",
       "    </tr>\n",
       "  </tbody>\n",
       "</table>\n",
       "</div>"
      ],
      "text/plain": [
       "   GO Primary Key  Council District         GO Highest Offense Desc  \\\n",
       "0     201610188.0               8.0  AGG ASLT ENHANC STRANGL/SUFFOC   \n",
       "1     201610643.0               9.0  THEFT                            \n",
       "2     201610892.0               4.0  AGG ROBBERY/DEADLY WEAPON        \n",
       "3     201610893.0               9.0  THEFT                            \n",
       "4     201611018.0               4.0  SEXUAL ASSAULT W/ OBJECT         \n",
       "\n",
       "  Highest NIBRS/UCR Offense Description GO Report Date  \\\n",
       "0                           Agg Assault       1-Jan-16   \n",
       "1                                 Theft       1-Jan-16   \n",
       "2                               Robbery       1-Jan-16   \n",
       "3                                 Theft       1-Jan-16   \n",
       "4                                  Rape       1-Jan-16   \n",
       "\n",
       "                                         GO Location Clearance Status  \\\n",
       "0  8600 W SH 71                                  ...                C   \n",
       "1  219 E 6TH ST                                  ...                C   \n",
       "2  701 W LONGSPUR BLVD                           ...                N   \n",
       "3  404 COLORADO ST                               ...                N   \n",
       "4                                                NaN                C   \n",
       "\n",
       "  Clearance Date GO District  GO Location Zip  GO Census Tract  \\\n",
       "0      12-Jan-16           D          78735.0            19.08   \n",
       "1       4-Jan-16           G          78701.0            11.00   \n",
       "2       3-May-16           E          78753.0            18.23   \n",
       "3      22-Jan-16           G          78701.0            11.00   \n",
       "4      10-Mar-16           E          78753.0            18.33   \n",
       "\n",
       "   GO X Coordinate  GO Y Coordinate  \n",
       "0        3067322.0       10062796.0  \n",
       "1        3114957.0       10070462.0  \n",
       "2        3129181.0       10106923.0  \n",
       "3        3113643.0       10070357.0  \n",
       "4              NaN              NaN  "
      ]
     },
     "execution_count": 7,
     "metadata": {},
     "output_type": "execute_result"
    }
   ],
   "source": [
    "austin_data_df.head()"
   ]
  },
  {
   "cell_type": "code",
   "execution_count": 8,
   "metadata": {},
   "outputs": [
    {
     "data": {
      "text/plain": [
       "Index(['GO Primary Key', 'Council District', 'GO Highest Offense Desc',\n",
       "       'Highest NIBRS/UCR Offense Description', 'GO Report Date',\n",
       "       'GO Location', 'Clearance Status', 'Clearance Date', 'GO District',\n",
       "       'GO Location Zip', 'GO Census Tract', 'GO X Coordinate',\n",
       "       'GO Y Coordinate'],\n",
       "      dtype='object')"
      ]
     },
     "execution_count": 8,
     "metadata": {},
     "output_type": "execute_result"
    }
   ],
   "source": [
    "austin_data_df.columns"
   ]
  },
  {
   "cell_type": "code",
   "execution_count": 11,
   "metadata": {},
   "outputs": [],
   "source": [
    "del austin_data_df['GO Primary Key']\n",
    "del austin_data_df['Council District']\n",
    "del austin_data_df['GO Highest Offense Desc']\n",
    "del austin_data_df['GO Report Date']\n",
    "del austin_data_df['GO Location']\n",
    "del austin_data_df['Clearance Status']\n",
    "del austin_data_df['Clearance Date']\n",
    "del austin_data_df['GO District']\n",
    "del austin_data_df['GO Census Tract']\n",
    "del austin_data_df['GO X Coordinate']\n",
    "del austin_data_df['GO Y Coordinate']\n"
   ]
  },
  {
   "cell_type": "markdown",
   "metadata": {},
   "source": [
    "### Clean DataFrame"
   ]
  },
  {
   "cell_type": "code",
   "execution_count": 12,
   "metadata": {},
   "outputs": [
    {
     "data": {
      "text/html": [
       "<div>\n",
       "<style scoped>\n",
       "    .dataframe tbody tr th:only-of-type {\n",
       "        vertical-align: middle;\n",
       "    }\n",
       "\n",
       "    .dataframe tbody tr th {\n",
       "        vertical-align: top;\n",
       "    }\n",
       "\n",
       "    .dataframe thead th {\n",
       "        text-align: right;\n",
       "    }\n",
       "</style>\n",
       "<table border=\"1\" class=\"dataframe\">\n",
       "  <thead>\n",
       "    <tr style=\"text-align: right;\">\n",
       "      <th></th>\n",
       "      <th>Highest NIBRS/UCR Offense Description</th>\n",
       "      <th>GO Location Zip</th>\n",
       "    </tr>\n",
       "  </thead>\n",
       "  <tbody>\n",
       "    <tr>\n",
       "      <th>0</th>\n",
       "      <td>Agg Assault</td>\n",
       "      <td>78735.0</td>\n",
       "    </tr>\n",
       "    <tr>\n",
       "      <th>1</th>\n",
       "      <td>Theft</td>\n",
       "      <td>78701.0</td>\n",
       "    </tr>\n",
       "    <tr>\n",
       "      <th>2</th>\n",
       "      <td>Robbery</td>\n",
       "      <td>78753.0</td>\n",
       "    </tr>\n",
       "    <tr>\n",
       "      <th>3</th>\n",
       "      <td>Theft</td>\n",
       "      <td>78701.0</td>\n",
       "    </tr>\n",
       "    <tr>\n",
       "      <th>4</th>\n",
       "      <td>Rape</td>\n",
       "      <td>78753.0</td>\n",
       "    </tr>\n",
       "  </tbody>\n",
       "</table>\n",
       "</div>"
      ],
      "text/plain": [
       "  Highest NIBRS/UCR Offense Description  GO Location Zip\n",
       "0                           Agg Assault          78735.0\n",
       "1                                 Theft          78701.0\n",
       "2                               Robbery          78753.0\n",
       "3                                 Theft          78701.0\n",
       "4                                  Rape          78753.0"
      ]
     },
     "execution_count": 12,
     "metadata": {},
     "output_type": "execute_result"
    }
   ],
   "source": [
    "austin_data_df.head()"
   ]
  },
  {
   "cell_type": "code",
   "execution_count": 16,
   "metadata": {},
   "outputs": [
    {
     "data": {
      "text/html": [
       "<div>\n",
       "<style scoped>\n",
       "    .dataframe tbody tr th:only-of-type {\n",
       "        vertical-align: middle;\n",
       "    }\n",
       "\n",
       "    .dataframe tbody tr th {\n",
       "        vertical-align: top;\n",
       "    }\n",
       "\n",
       "    .dataframe thead th {\n",
       "        text-align: right;\n",
       "    }\n",
       "</style>\n",
       "<table border=\"1\" class=\"dataframe\">\n",
       "  <thead>\n",
       "    <tr style=\"text-align: right;\">\n",
       "      <th></th>\n",
       "      <th>Offense</th>\n",
       "      <th>Zip</th>\n",
       "    </tr>\n",
       "  </thead>\n",
       "  <tbody>\n",
       "    <tr>\n",
       "      <th>0</th>\n",
       "      <td>Agg Assault</td>\n",
       "      <td>78735.0</td>\n",
       "    </tr>\n",
       "    <tr>\n",
       "      <th>1</th>\n",
       "      <td>Theft</td>\n",
       "      <td>78701.0</td>\n",
       "    </tr>\n",
       "    <tr>\n",
       "      <th>2</th>\n",
       "      <td>Robbery</td>\n",
       "      <td>78753.0</td>\n",
       "    </tr>\n",
       "    <tr>\n",
       "      <th>3</th>\n",
       "      <td>Theft</td>\n",
       "      <td>78701.0</td>\n",
       "    </tr>\n",
       "    <tr>\n",
       "      <th>4</th>\n",
       "      <td>Rape</td>\n",
       "      <td>78753.0</td>\n",
       "    </tr>\n",
       "  </tbody>\n",
       "</table>\n",
       "</div>"
      ],
      "text/plain": [
       "       Offense      Zip\n",
       "0  Agg Assault  78735.0\n",
       "1        Theft  78701.0\n",
       "2      Robbery  78753.0\n",
       "3        Theft  78701.0\n",
       "4         Rape  78753.0"
      ]
     },
     "execution_count": 16,
     "metadata": {},
     "output_type": "execute_result"
    }
   ],
   "source": [
    "austin_data_df = austin_data_df.rename(columns={'Highest NIBRS/UCR Offense Description': 'Offense', 'GO Location Zip': 'Zip'})\n",
    "austin_data_df.head()\n"
   ]
  },
  {
   "cell_type": "code",
   "execution_count": 10,
   "metadata": {},
   "outputs": [
    {
     "data": {
      "text/plain": [
       "78741.0    3355\n",
       "78753.0    3134\n",
       "78704.0    2557\n",
       "78758.0    2499\n",
       "78745.0    2245\n",
       "78701.0    2076\n",
       "78723.0    2041\n",
       "78744.0    1990\n",
       "78702.0    1582\n",
       "78748.0    1372\n",
       "78752.0    1289\n",
       "78759.0    1198\n",
       "78705.0    1134\n",
       "78757.0    1074\n",
       "78751.0     914\n",
       "78746.0     826\n",
       "78749.0     790\n",
       "78703.0     660\n",
       "78729.0     564\n",
       "78724.0     540\n",
       "78727.0     538\n",
       "78721.0     515\n",
       "78731.0     512\n",
       "78754.0     413\n",
       "78613.0     341\n",
       "78750.0     340\n",
       "78756.0     326\n",
       "78717.0     305\n",
       "78735.0     300\n",
       "78617.0     285\n",
       "78722.0     261\n",
       "78747.0     229\n",
       "78726.0     221\n",
       "78660.0     179\n",
       "78719.0     165\n",
       "78739.0     151\n",
       "78736.0     115\n",
       "78725.0      72\n",
       "78742.0      58\n",
       "78653.0      48\n",
       "78730.0      46\n",
       "78652.0      16\n",
       "78712.0       7\n",
       "78728.0       7\n",
       "78664.0       2\n",
       "78732.0       1\n",
       "78737.0       1\n",
       "Name: GO Location Zip, dtype: int64"
      ]
     },
     "execution_count": 10,
     "metadata": {},
     "output_type": "execute_result"
    }
   ],
   "source": [
    "austin_data_df[\"GO Location Zip\"].value_counts()"
   ]
  },
  {
   "cell_type": "markdown",
   "metadata": {},
   "source": [
    "### Connect to local database"
   ]
  },
  {
   "cell_type": "code",
   "execution_count": 28,
   "metadata": {},
   "outputs": [],
   "source": [
    "rds_connection_string = \"root:Msql03092018@127.0.0.1/austin_crime_housing_db\"\n",
    "engine = create_engine(f'mysql://{rds_connection_string}')"
   ]
  },
  {
   "cell_type": "markdown",
   "metadata": {},
   "source": [
    "### Check for tables"
   ]
  },
  {
   "cell_type": "code",
   "execution_count": 29,
   "metadata": {},
   "outputs": [
    {
     "data": {
      "text/plain": [
       "['austin_data', 'house']"
      ]
     },
     "execution_count": 29,
     "metadata": {},
     "output_type": "execute_result"
    }
   ],
   "source": [
    "engine.table_names()"
   ]
  },
  {
   "cell_type": "markdown",
   "metadata": {},
   "source": [
    "### Use 1 st pandas to load csv converted DataFrame into database"
   ]
  },
  {
   "cell_type": "code",
   "execution_count": 31,
   "metadata": {},
   "outputs": [],
   "source": [
    "#new_house_data_df.to_sql(name='house', con=engine, if_exists='append', index=False)"
   ]
  },
  {
   "cell_type": "markdown",
   "metadata": {},
   "source": [
    "### Use 2 nd  pandas to load csv converted DataFrame into database"
   ]
  },
  {
   "cell_type": "code",
   "execution_count": 33,
   "metadata": {},
   "outputs": [],
   "source": [
    "#austin_data_df.to_sql(name='austin_data', con=engine, if_exists='append', index=False)"
   ]
  },
  {
   "cell_type": "markdown",
   "metadata": {},
   "source": [
    "### Confirm data has been added by querying the house table"
   ]
  },
  {
   "cell_type": "code",
   "execution_count": 36,
   "metadata": {},
   "outputs": [
    {
     "data": {
      "text/html": [
       "<div>\n",
       "<style scoped>\n",
       "    .dataframe tbody tr th:only-of-type {\n",
       "        vertical-align: middle;\n",
       "    }\n",
       "\n",
       "    .dataframe tbody tr th {\n",
       "        vertical-align: top;\n",
       "    }\n",
       "\n",
       "    .dataframe thead th {\n",
       "        text-align: right;\n",
       "    }\n",
       "</style>\n",
       "<table border=\"1\" class=\"dataframe\">\n",
       "  <thead>\n",
       "    <tr style=\"text-align: right;\">\n",
       "      <th></th>\n",
       "      <th>Zip</th>\n",
       "      <th>Contractor_Name</th>\n",
       "      <th>Total_Affordable_Units</th>\n",
       "    </tr>\n",
       "  </thead>\n",
       "  <tbody>\n",
       "  </tbody>\n",
       "</table>\n",
       "</div>"
      ],
      "text/plain": [
       "Empty DataFrame\n",
       "Columns: [Zip, Contractor_Name, Total_Affordable_Units]\n",
       "Index: []"
      ]
     },
     "execution_count": 36,
     "metadata": {},
     "output_type": "execute_result"
    }
   ],
   "source": [
    "pd.read_sql_query('select * from house', con=engine).head()"
   ]
  },
  {
   "cell_type": "markdown",
   "metadata": {},
   "source": [
    "### Confirm data has been added by querying the austin_data table"
   ]
  },
  {
   "cell_type": "code",
   "execution_count": 37,
   "metadata": {},
   "outputs": [
    {
     "data": {
      "text/html": [
       "<div>\n",
       "<style scoped>\n",
       "    .dataframe tbody tr th:only-of-type {\n",
       "        vertical-align: middle;\n",
       "    }\n",
       "\n",
       "    .dataframe tbody tr th {\n",
       "        vertical-align: top;\n",
       "    }\n",
       "\n",
       "    .dataframe thead th {\n",
       "        text-align: right;\n",
       "    }\n",
       "</style>\n",
       "<table border=\"1\" class=\"dataframe\">\n",
       "  <thead>\n",
       "    <tr style=\"text-align: right;\">\n",
       "      <th></th>\n",
       "      <th>Zip</th>\n",
       "      <th>Offense</th>\n",
       "    </tr>\n",
       "  </thead>\n",
       "  <tbody>\n",
       "  </tbody>\n",
       "</table>\n",
       "</div>"
      ],
      "text/plain": [
       "Empty DataFrame\n",
       "Columns: [Zip, Offense]\n",
       "Index: []"
      ]
     },
     "execution_count": 37,
     "metadata": {},
     "output_type": "execute_result"
    }
   ],
   "source": [
    "pd.read_sql_query('select * from austin_data', con=engine).head()"
   ]
  },
  {
   "cell_type": "code",
   "execution_count": null,
   "metadata": {},
   "outputs": [],
   "source": []
  }
 ],
 "metadata": {
  "kernelspec": {
   "display_name": "Python [conda env:PythonData]",
   "language": "python",
   "name": "pythondata"
  },
  "language_info": {
   "codemirror_mode": {
    "name": "ipython",
    "version": 3
   },
   "file_extension": ".py",
   "mimetype": "text/x-python",
   "name": "python",
   "nbconvert_exporter": "python",
   "pygments_lexer": "ipython3",
   "version": "3.7.2"
  }
 },
 "nbformat": 4,
 "nbformat_minor": 2
}
